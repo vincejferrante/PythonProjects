from pytube import YouTube

# Input the URL with the YouTube video you want to download
//input youtube url as string
url = ""

# Create a YouTube object
youtube = YouTube(url)

# Select the highest resolution stream
video_stream = youtube.streams.get_highest_resolution()

# Download the video to the current directory
video_stream.download()
